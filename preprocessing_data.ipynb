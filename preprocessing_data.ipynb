{
 "cells": [
  {
   "cell_type": "code",
   "execution_count": 8,
   "id": "4fa9d3d8",
   "metadata": {},
   "outputs": [],
   "source": [
    "import os\n",
    "import random\n",
    "import shutil"
   ]
  },
  {
   "cell_type": "code",
   "execution_count": null,
   "id": "40bc15bd",
   "metadata": {},
   "outputs": [],
   "source": [
    "def keep_only_class0(data_dir):\n",
    "    label_dir = data_dir + '/labels'\n",
    "    image_dir = data_dir + '/images'\n",
    "    for file in os.listdir(label_dir):\n",
    "        if file.endswith(\".txt\"):\n",
    "            label_path = os.path.join(label_dir, file)\n",
    "            image_path = os.path.join(image_dir, file).replace('.txt', '.jpg')\n",
    "            with open(label_path, 'r') as f:\n",
    "                lines = f.readlines()\n",
    "            lines = [l for l in lines if l.startswith(\"0 \")]\n",
    "            if lines:\n",
    "                with open(label_path, 'w') as f:\n",
    "                    f.writelines(lines)\n",
    "            else:\n",
    "                os.remove(label_path)  # Xoá nhãn nếu không còn fire\n",
    "                os.remove(image_path)  # Xoá ảnh nếu không còn fire\n",
    "\n",
    "# Lọc toàn bộ\n",
    "for split in [\"train\"]:\n",
    "    keep_only_class0(f\"data/FireDetectionYOLO/{split}\")\n"
   ]
  },
  {
   "cell_type": "code",
   "execution_count": 9,
   "id": "5b8b048d",
   "metadata": {},
   "outputs": [
    {
     "name": "stdout",
     "output_type": "stream",
     "text": [
      "Total: 7704 → Train: 6164, Val: 770, Test: 770\n"
     ]
    }
   ],
   "source": [
    "def split_dataset(img_dir, label_dir, output_dir, val_ratio=0.1, test_ratio=0.1, seed=42):\n",
    "    random.seed(seed)\n",
    "\n",
    "    # Lấy danh sách ảnh\n",
    "    images = [f for f in os.listdir(img_dir) if f.endswith((\".jpg\", \".png\"))]\n",
    "    random.shuffle(images)\n",
    "\n",
    "    total = len(images)\n",
    "    test_count = int(total * test_ratio)\n",
    "    val_count = int(total * val_ratio)\n",
    "\n",
    "    test_imgs = images[:test_count]\n",
    "    val_imgs = images[test_count:test_count + val_count]\n",
    "    train_imgs = images[test_count + val_count:]\n",
    "\n",
    "    print(f\"Total: {total} → Train: {len(train_imgs)}, Val: {len(val_imgs)}, Test: {len(test_imgs)}\")\n",
    "\n",
    "    def copy_files(img_list, split):\n",
    "        img_out = os.path.join(output_dir, split, \"images\")\n",
    "        lbl_out = os.path.join(output_dir, split, \"labels\")\n",
    "        os.makedirs(img_out, exist_ok=True)\n",
    "        os.makedirs(lbl_out, exist_ok=True)\n",
    "\n",
    "        for img_name in img_list:\n",
    "            base = os.path.splitext(img_name)[0]\n",
    "            shutil.copy(os.path.join(img_dir, img_name), os.path.join(img_out, img_name))\n",
    "\n",
    "            label_file = base + \".txt\"\n",
    "            src_lbl = os.path.join(label_dir, label_file)\n",
    "            if os.path.exists(src_lbl):\n",
    "                shutil.copy(src_lbl, os.path.join(lbl_out, label_file))\n",
    "\n",
    "    copy_files(train_imgs, \"train\")\n",
    "    copy_files(val_imgs, \"val\")\n",
    "    copy_files(test_imgs, \"test\")\n",
    "\n",
    "split_dataset(\n",
    "    img_dir=\"data/FireDetection/train/images\",\n",
    "    label_dir=\"data/FireDetection/train/labels\",\n",
    "    output_dir=\"data/FireDetection/splited\",\n",
    "    val_ratio=0.1,\n",
    "    test_ratio=0.1\n",
    ")\n"
   ]
  },
  {
   "cell_type": "code",
   "execution_count": null,
   "id": "fe243781",
   "metadata": {},
   "outputs": [],
   "source": []
  }
 ],
 "metadata": {
  "kernelspec": {
   "display_name": "Python 3",
   "language": "python",
   "name": "python3"
  },
  "language_info": {
   "codemirror_mode": {
    "name": "ipython",
    "version": 3
   },
   "file_extension": ".py",
   "mimetype": "text/x-python",
   "name": "python",
   "nbconvert_exporter": "python",
   "pygments_lexer": "ipython3",
   "version": "3.12.4"
  }
 },
 "nbformat": 4,
 "nbformat_minor": 5
}
